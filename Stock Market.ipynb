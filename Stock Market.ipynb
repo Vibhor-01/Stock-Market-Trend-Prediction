{
 "cells": [
  {
   "cell_type": "code",
   "execution_count": 1,
   "metadata": {},
   "outputs": [],
   "source": [
    "import numpy as np\n",
    "import pandas as pd\n",
    "import matplotlib.pyplot as plt\n",
    "from pandas_datareader import data as pdr\n",
    "import yfinance as yf\n",
    "import datetime as dt"
   ]
  },
  {
   "cell_type": "code",
   "execution_count": 2,
   "metadata": {},
   "outputs": [
    {
     "name": "stdout",
     "output_type": "stream",
     "text": [
      "[*********************100%***********************]  1 of 1 completed\n"
     ]
    },
    {
     "data": {
      "text/html": [
       "<div>\n",
       "<style scoped>\n",
       "    .dataframe tbody tr th:only-of-type {\n",
       "        vertical-align: middle;\n",
       "    }\n",
       "\n",
       "    .dataframe tbody tr th {\n",
       "        vertical-align: top;\n",
       "    }\n",
       "\n",
       "    .dataframe thead th {\n",
       "        text-align: right;\n",
       "    }\n",
       "</style>\n",
       "<table border=\"1\" class=\"dataframe\">\n",
       "  <thead>\n",
       "    <tr style=\"text-align: right;\">\n",
       "      <th></th>\n",
       "      <th>Open</th>\n",
       "      <th>High</th>\n",
       "      <th>Low</th>\n",
       "      <th>Close</th>\n",
       "      <th>Adj Close</th>\n",
       "      <th>Volume</th>\n",
       "    </tr>\n",
       "    <tr>\n",
       "      <th>Date</th>\n",
       "      <th></th>\n",
       "      <th></th>\n",
       "      <th></th>\n",
       "      <th></th>\n",
       "      <th></th>\n",
       "      <th></th>\n",
       "    </tr>\n",
       "  </thead>\n",
       "  <tbody>\n",
       "    <tr>\n",
       "      <th>2010-01-04</th>\n",
       "      <td>15.615220</td>\n",
       "      <td>15.678981</td>\n",
       "      <td>15.547723</td>\n",
       "      <td>15.610239</td>\n",
       "      <td>15.610239</td>\n",
       "      <td>78541293</td>\n",
       "    </tr>\n",
       "    <tr>\n",
       "      <th>2010-01-05</th>\n",
       "      <td>15.620949</td>\n",
       "      <td>15.637387</td>\n",
       "      <td>15.480475</td>\n",
       "      <td>15.541497</td>\n",
       "      <td>15.541497</td>\n",
       "      <td>120638494</td>\n",
       "    </tr>\n",
       "    <tr>\n",
       "      <th>2010-01-06</th>\n",
       "      <td>15.588072</td>\n",
       "      <td>15.588072</td>\n",
       "      <td>15.102393</td>\n",
       "      <td>15.149715</td>\n",
       "      <td>15.149715</td>\n",
       "      <td>159744526</td>\n",
       "    </tr>\n",
       "    <tr>\n",
       "      <th>2010-01-07</th>\n",
       "      <td>15.178109</td>\n",
       "      <td>15.193053</td>\n",
       "      <td>14.760922</td>\n",
       "      <td>14.797037</td>\n",
       "      <td>14.797037</td>\n",
       "      <td>257533695</td>\n",
       "    </tr>\n",
       "    <tr>\n",
       "      <th>2010-01-08</th>\n",
       "      <td>14.744733</td>\n",
       "      <td>15.024933</td>\n",
       "      <td>14.672753</td>\n",
       "      <td>14.994298</td>\n",
       "      <td>14.994298</td>\n",
       "      <td>189680313</td>\n",
       "    </tr>\n",
       "  </tbody>\n",
       "</table>\n",
       "</div>"
      ],
      "text/plain": [
       "                 Open       High        Low      Close  Adj Close     Volume\n",
       "Date                                                                        \n",
       "2010-01-04  15.615220  15.678981  15.547723  15.610239  15.610239   78541293\n",
       "2010-01-05  15.620949  15.637387  15.480475  15.541497  15.541497  120638494\n",
       "2010-01-06  15.588072  15.588072  15.102393  15.149715  15.149715  159744526\n",
       "2010-01-07  15.178109  15.193053  14.760922  14.797037  14.797037  257533695\n",
       "2010-01-08  14.744733  15.024933  14.672753  14.994298  14.994298  189680313"
      ]
     },
     "execution_count": 2,
     "metadata": {},
     "output_type": "execute_result"
    }
   ],
   "source": [
    "yf.pdr_override()\n",
    "end=dt.datetime.now()\n",
    "start=dt.datetime(2010,1,1)\n",
    "stock=['GOOG']\n",
    "dataframe=pdr.get_data_yahoo(stock, start=start, end=end)\n",
    "dataframe.head()"
   ]
  },
  {
   "cell_type": "code",
   "execution_count": 3,
   "metadata": {},
   "outputs": [
    {
     "data": {
      "text/html": [
       "<div>\n",
       "<style scoped>\n",
       "    .dataframe tbody tr th:only-of-type {\n",
       "        vertical-align: middle;\n",
       "    }\n",
       "\n",
       "    .dataframe tbody tr th {\n",
       "        vertical-align: top;\n",
       "    }\n",
       "\n",
       "    .dataframe thead th {\n",
       "        text-align: right;\n",
       "    }\n",
       "</style>\n",
       "<table border=\"1\" class=\"dataframe\">\n",
       "  <thead>\n",
       "    <tr style=\"text-align: right;\">\n",
       "      <th></th>\n",
       "      <th>Open</th>\n",
       "      <th>High</th>\n",
       "      <th>Low</th>\n",
       "      <th>Close</th>\n",
       "      <th>Adj Close</th>\n",
       "      <th>Volume</th>\n",
       "    </tr>\n",
       "    <tr>\n",
       "      <th>Date</th>\n",
       "      <th></th>\n",
       "      <th></th>\n",
       "      <th></th>\n",
       "      <th></th>\n",
       "      <th></th>\n",
       "      <th></th>\n",
       "    </tr>\n",
       "  </thead>\n",
       "  <tbody>\n",
       "    <tr>\n",
       "      <th>2023-04-17</th>\n",
       "      <td>105.430000</td>\n",
       "      <td>106.709999</td>\n",
       "      <td>105.320000</td>\n",
       "      <td>106.419998</td>\n",
       "      <td>106.419998</td>\n",
       "      <td>29043400</td>\n",
       "    </tr>\n",
       "    <tr>\n",
       "      <th>2023-04-18</th>\n",
       "      <td>107.000000</td>\n",
       "      <td>107.050003</td>\n",
       "      <td>104.779999</td>\n",
       "      <td>105.120003</td>\n",
       "      <td>105.120003</td>\n",
       "      <td>17641400</td>\n",
       "    </tr>\n",
       "    <tr>\n",
       "      <th>2023-04-19</th>\n",
       "      <td>104.214996</td>\n",
       "      <td>105.724998</td>\n",
       "      <td>103.800003</td>\n",
       "      <td>105.019997</td>\n",
       "      <td>105.019997</td>\n",
       "      <td>16732000</td>\n",
       "    </tr>\n",
       "    <tr>\n",
       "      <th>2023-04-20</th>\n",
       "      <td>104.650002</td>\n",
       "      <td>106.888000</td>\n",
       "      <td>104.639999</td>\n",
       "      <td>105.900002</td>\n",
       "      <td>105.900002</td>\n",
       "      <td>22515300</td>\n",
       "    </tr>\n",
       "    <tr>\n",
       "      <th>2023-04-21</th>\n",
       "      <td>106.089996</td>\n",
       "      <td>106.639999</td>\n",
       "      <td>105.485001</td>\n",
       "      <td>105.910004</td>\n",
       "      <td>105.910004</td>\n",
       "      <td>22369800</td>\n",
       "    </tr>\n",
       "  </tbody>\n",
       "</table>\n",
       "</div>"
      ],
      "text/plain": [
       "                  Open        High         Low       Close   Adj Close  \\\n",
       "Date                                                                     \n",
       "2023-04-17  105.430000  106.709999  105.320000  106.419998  106.419998   \n",
       "2023-04-18  107.000000  107.050003  104.779999  105.120003  105.120003   \n",
       "2023-04-19  104.214996  105.724998  103.800003  105.019997  105.019997   \n",
       "2023-04-20  104.650002  106.888000  104.639999  105.900002  105.900002   \n",
       "2023-04-21  106.089996  106.639999  105.485001  105.910004  105.910004   \n",
       "\n",
       "              Volume  \n",
       "Date                  \n",
       "2023-04-17  29043400  \n",
       "2023-04-18  17641400  \n",
       "2023-04-19  16732000  \n",
       "2023-04-20  22515300  \n",
       "2023-04-21  22369800  "
      ]
     },
     "execution_count": 3,
     "metadata": {},
     "output_type": "execute_result"
    }
   ],
   "source": [
    "dataframe.tail()"
   ]
  },
  {
   "cell_type": "code",
   "execution_count": null,
   "metadata": {},
   "outputs": [],
   "source": [
    "dataframe=dataframe.reset_index()\n",
    "dataframe.head()"
   ]
  },
  {
   "cell_type": "code",
   "execution_count": 5,
   "metadata": {},
   "outputs": [
    {
     "data": {
      "text/html": [
       "<div>\n",
       "<style scoped>\n",
       "    .dataframe tbody tr th:only-of-type {\n",
       "        vertical-align: middle;\n",
       "    }\n",
       "\n",
       "    .dataframe tbody tr th {\n",
       "        vertical-align: top;\n",
       "    }\n",
       "\n",
       "    .dataframe thead th {\n",
       "        text-align: right;\n",
       "    }\n",
       "</style>\n",
       "<table border=\"1\" class=\"dataframe\">\n",
       "  <thead>\n",
       "    <tr style=\"text-align: right;\">\n",
       "      <th></th>\n",
       "      <th>Open</th>\n",
       "      <th>High</th>\n",
       "      <th>Low</th>\n",
       "      <th>Close</th>\n",
       "      <th>Volume</th>\n",
       "    </tr>\n",
       "  </thead>\n",
       "  <tbody>\n",
       "    <tr>\n",
       "      <th>0</th>\n",
       "      <td>15.615220</td>\n",
       "      <td>15.678981</td>\n",
       "      <td>15.547723</td>\n",
       "      <td>15.610239</td>\n",
       "      <td>78541293</td>\n",
       "    </tr>\n",
       "    <tr>\n",
       "      <th>1</th>\n",
       "      <td>15.620949</td>\n",
       "      <td>15.637387</td>\n",
       "      <td>15.480475</td>\n",
       "      <td>15.541497</td>\n",
       "      <td>120638494</td>\n",
       "    </tr>\n",
       "    <tr>\n",
       "      <th>2</th>\n",
       "      <td>15.588072</td>\n",
       "      <td>15.588072</td>\n",
       "      <td>15.102393</td>\n",
       "      <td>15.149715</td>\n",
       "      <td>159744526</td>\n",
       "    </tr>\n",
       "    <tr>\n",
       "      <th>3</th>\n",
       "      <td>15.178109</td>\n",
       "      <td>15.193053</td>\n",
       "      <td>14.760922</td>\n",
       "      <td>14.797037</td>\n",
       "      <td>257533695</td>\n",
       "    </tr>\n",
       "    <tr>\n",
       "      <th>4</th>\n",
       "      <td>14.744733</td>\n",
       "      <td>15.024933</td>\n",
       "      <td>14.672753</td>\n",
       "      <td>14.994298</td>\n",
       "      <td>189680313</td>\n",
       "    </tr>\n",
       "  </tbody>\n",
       "</table>\n",
       "</div>"
      ],
      "text/plain": [
       "        Open       High        Low      Close     Volume\n",
       "0  15.615220  15.678981  15.547723  15.610239   78541293\n",
       "1  15.620949  15.637387  15.480475  15.541497  120638494\n",
       "2  15.588072  15.588072  15.102393  15.149715  159744526\n",
       "3  15.178109  15.193053  14.760922  14.797037  257533695\n",
       "4  14.744733  15.024933  14.672753  14.994298  189680313"
      ]
     },
     "execution_count": 5,
     "metadata": {},
     "output_type": "execute_result"
    }
   ],
   "source": [
    "dataframe=dataframe.drop(['Date','Adj Close'],axis=1)\n",
    "dataframe.head()"
   ]
  },
  {
   "cell_type": "code",
   "execution_count": 6,
   "metadata": {},
   "outputs": [
    {
     "data": {
      "text/plain": [
       "[<matplotlib.lines.Line2D at 0x2607972c390>]"
      ]
     },
     "execution_count": 6,
     "metadata": {},
     "output_type": "execute_result"
    },
    {
     "data": {
      "image/png": "[encoded data removed]",
      "text/plain": [
       "<Figure size 640x480 with 1 Axes>"
      ]
     },
     "metadata": {},
     "output_type": "display_data"
    }
   ],
   "source": [
    "plt.plot(dataframe.Open)"
   ]
  },
  {
   "cell_type": "code",
   "execution_count": 7,
   "metadata": {},
   "outputs": [
    {
     "data": {
      "text/plain": [
       "0            NaN\n",
       "1            NaN\n",
       "2            NaN\n",
       "3            NaN\n",
       "4            NaN\n",
       "          ...   \n",
       "3343    96.52162\n",
       "3344    96.61602\n",
       "3345    96.69657\n",
       "3346    96.76967\n",
       "3347    96.84592\n",
       "Name: Open, Length: 3348, dtype: float64"
      ]
     },
     "execution_count": 7,
     "metadata": {},
     "output_type": "execute_result"
    }
   ],
   "source": [
    "MA100=dataframe.Open.rolling(100).mean()\n",
    "MA100"
   ]
  },
  {
   "cell_type": "code",
   "execution_count": 8,
   "metadata": {},
   "outputs": [
    {
     "data": {
      "text/plain": [
       "[<matplotlib.lines.Line2D at 0x2607baec050>]"
      ]
     },
     "execution_count": 8,
     "metadata": {},
     "output_type": "execute_result"
    },
    {
     "data": {
      "image/png": "[encoded data removed]",
      "text/plain": [
       "<Figure size 1200x600 with 1 Axes>"
      ]
     },
     "metadata": {},
     "output_type": "display_data"
    }
   ],
   "source": [
    "plt.figure(figsize=(12,6))\n",
    "plt.plot(dataframe.Open)\n",
    "plt.plot(MA100,'g')"
   ]
  },
  {
   "cell_type": "code",
   "execution_count": 9,
   "metadata": {},
   "outputs": [],
   "source": [
    "MA200=dataframe.Open.rolling(200).mean()"
   ]
  },
  {
   "cell_type": "code",
   "execution_count": 10,
   "metadata": {},
   "outputs": [
    {
     "data": {
      "text/plain": [
       "[<matplotlib.lines.Line2D at 0x2607bb90d90>]"
      ]
     },
     "execution_count": 10,
     "metadata": {},
     "output_type": "execute_result"
    },
    {
     "data": {
      "image/png": "[encoded data removed]",
      "text/plain": [
       "<Figure size 1200x600 with 1 Axes>"
      ]
     },
     "metadata": {},
     "output_type": "display_data"
    }
   ],
   "source": [
    "plt.figure(figsize=(12,6))\n",
    "plt.plot(dataframe.Open)\n",
    "plt.plot(MA100,'g')\n",
    "plt.plot(MA200,'r')"
   ]
  },
  {
   "cell_type": "code",
   "execution_count": 11,
   "metadata": {},
   "outputs": [
    {
     "data": {
      "text/plain": [
       "(3348, 5)"
      ]
     },
     "execution_count": 11,
     "metadata": {},
     "output_type": "execute_result"
    }
   ],
   "source": [
    "dataframe.shape"
   ]
  },
  {
   "cell_type": "code",
   "execution_count": 12,
   "metadata": {},
   "outputs": [
    {
     "name": "stdout",
     "output_type": "stream",
     "text": [
      "(2343, 1)\n",
      "(1005, 1)\n"
     ]
    }
   ],
   "source": [
    "#Splitting Data into training and test Set\n",
    "\n",
    "data_train=pd.DataFrame(dataframe['Open'][0:int(len(dataframe)*0.70)])\n",
    "#To take only the Open Column in our dataframe we start from index o of Open column and then take the first 70% of the values\n",
    "\n",
    "data_test=pd.DataFrame(dataframe['Open'][int(len(dataframe)*0.70): int(len(dataframe))])\n",
    "#The Test Dataframe will take the remaining 30% values\n",
    "\n",
    "print(data_train.shape)\n",
    "print(data_test.shape)"
   ]
  },
  {
   "cell_type": "code",
   "execution_count": 13,
   "metadata": {},
   "outputs": [
    {
     "data": {
      "text/html": [
       "<div>\n",
       "<style scoped>\n",
       "    .dataframe tbody tr th:only-of-type {\n",
       "        vertical-align: middle;\n",
       "    }\n",
       "\n",
       "    .dataframe tbody tr th {\n",
       "        vertical-align: top;\n",
       "    }\n",
       "\n",
       "    .dataframe thead th {\n",
       "        text-align: right;\n",
       "    }\n",
       "</style>\n",
       "<table border=\"1\" class=\"dataframe\">\n",
       "  <thead>\n",
       "    <tr style=\"text-align: right;\">\n",
       "      <th></th>\n",
       "      <th>Open</th>\n",
       "    </tr>\n",
       "  </thead>\n",
       "  <tbody>\n",
       "    <tr>\n",
       "      <th>0</th>\n",
       "      <td>15.615220</td>\n",
       "    </tr>\n",
       "    <tr>\n",
       "      <th>1</th>\n",
       "      <td>15.620949</td>\n",
       "    </tr>\n",
       "    <tr>\n",
       "      <th>2</th>\n",
       "      <td>15.588072</td>\n",
       "    </tr>\n",
       "    <tr>\n",
       "      <th>3</th>\n",
       "      <td>15.178109</td>\n",
       "    </tr>\n",
       "    <tr>\n",
       "      <th>4</th>\n",
       "      <td>14.744733</td>\n",
       "    </tr>\n",
       "  </tbody>\n",
       "</table>\n",
       "</div>"
      ],
      "text/plain": [
       "        Open\n",
       "0  15.615220\n",
       "1  15.620949\n",
       "2  15.588072\n",
       "3  15.178109\n",
       "4  14.744733"
      ]
     },
     "execution_count": 13,
     "metadata": {},
     "output_type": "execute_result"
    }
   ],
   "source": [
    "data_train.head()"
   ]
  },
  {
   "cell_type": "code",
   "execution_count": 14,
   "metadata": {},
   "outputs": [
    {
     "data": {
      "text/html": [
       "<div>\n",
       "<style scoped>\n",
       "    .dataframe tbody tr th:only-of-type {\n",
       "        vertical-align: middle;\n",
       "    }\n",
       "\n",
       "    .dataframe tbody tr th {\n",
       "        vertical-align: top;\n",
       "    }\n",
       "\n",
       "    .dataframe thead th {\n",
       "        text-align: right;\n",
       "    }\n",
       "</style>\n",
       "<table border=\"1\" class=\"dataframe\">\n",
       "  <thead>\n",
       "    <tr style=\"text-align: right;\">\n",
       "      <th></th>\n",
       "      <th>Open</th>\n",
       "    </tr>\n",
       "  </thead>\n",
       "  <tbody>\n",
       "    <tr>\n",
       "      <th>2343</th>\n",
       "      <td>63.450001</td>\n",
       "    </tr>\n",
       "    <tr>\n",
       "      <th>2344</th>\n",
       "      <td>63.700001</td>\n",
       "    </tr>\n",
       "    <tr>\n",
       "      <th>2345</th>\n",
       "      <td>59.250000</td>\n",
       "    </tr>\n",
       "    <tr>\n",
       "      <th>2346</th>\n",
       "      <td>59.402500</td>\n",
       "    </tr>\n",
       "    <tr>\n",
       "      <th>2347</th>\n",
       "      <td>58.388000</td>\n",
       "    </tr>\n",
       "  </tbody>\n",
       "</table>\n",
       "</div>"
      ],
      "text/plain": [
       "           Open\n",
       "2343  63.450001\n",
       "2344  63.700001\n",
       "2345  59.250000\n",
       "2346  59.402500\n",
       "2347  58.388000"
      ]
     },
     "execution_count": 14,
     "metadata": {},
     "output_type": "execute_result"
    }
   ],
   "source": [
    "data_test.head()"
   ]
  },
  {
   "cell_type": "code",
   "execution_count": 15,
   "metadata": {},
   "outputs": [
    {
     "data": {
      "text/plain": [
       "(2343, 1)"
      ]
     },
     "execution_count": 15,
     "metadata": {},
     "output_type": "execute_result"
    }
   ],
   "source": [
    "data_train.shape"
   ]
  },
  {
   "cell_type": "code",
   "execution_count": 16,
   "metadata": {},
   "outputs": [
    {
     "name": "stdout",
     "output_type": "stream",
     "text": [
      "[[0.0892667 ]\n",
      " [0.08937554]\n",
      " [0.0887509 ]\n",
      " ...\n",
      " [0.9807061 ]\n",
      " [0.99346424]\n",
      " [0.99408167]]\n"
     ]
    }
   ],
   "source": [
    "from sklearn.preprocessing import MinMaxScaler\n",
    "sc=MinMaxScaler(feature_range=(0,1))\n",
    "data_train_array=sc.fit_transform(data_train)\n",
    "print(data_train_array)"
   ]
  },
  {
   "cell_type": "code",
   "execution_count": 17,
   "metadata": {},
   "outputs": [],
   "source": [
    "x_train=[]\n",
    "y_train=[]\n",
    "for i in range(100, data_train.shape[0]):\n",
    "    x_train.append(data_train_array[i-100:i])\n",
    "    y_train.append(data_train_array[i,0])\n",
    "x_train,y_train=np.array(x_train),np.array(y_train)"
   ]
  },
  {
   "cell_type": "code",
   "execution_count": 18,
   "metadata": {},
   "outputs": [
    {
     "data": {
      "text/plain": [
       "(2243, 100, 1)"
      ]
     },
     "execution_count": 18,
     "metadata": {},
     "output_type": "execute_result"
    }
   ],
   "source": [
    "x_train.shape"
   ]
  },
  {
   "cell_type": "code",
   "execution_count": 19,
   "metadata": {},
   "outputs": [],
   "source": [
    "#DL Model\n",
    "from keras.models import Sequential\n",
    "from keras.layers import Dense\n",
    "from keras.layers import LSTM\n",
    "from keras.layers import Dropout"
   ]
  },
  {
   "cell_type": "code",
   "execution_count": 20,
   "metadata": {},
   "outputs": [],
   "source": [
    "regressor=Sequential()\n",
    "regressor.add(LSTM(units = 50, activation='relu', return_sequences = True, input_shape = (x_train.shape[1], 1)))\n",
    "regressor.add(Dropout(0.2))\n",
    "\n",
    "regressor.add(LSTM(units = 60, activation='relu', return_sequences = True))\n",
    "regressor.add(Dropout(0.3))\n",
    "\n",
    "regressor.add(LSTM(units = 80, activation='relu', return_sequences = True))\n",
    "regressor.add(Dropout(0.4))\n",
    "\n",
    "regressor.add(LSTM(units = 120, activation='relu'))\n",
    "regressor.add(Dropout(0.5))\n",
    "\n",
    "regressor.add(Dense(units = 1))"
   ]
  },
  {
   "cell_type": "code",
   "execution_count": 22,
   "metadata": {},
   "outputs": [
    {
     "name": "stdout",
     "output_type": "stream",
     "text": [
      "Model: \"sequential\"\n",
      "_________________________________________________________________\n",
      " Layer (type)                Output Shape              Param #   \n",
      "=================================================================\n",
      " lstm (LSTM)                 (None, 100, 50)           10400     \n",
      "                                                                 \n",
      " dropout (Dropout)           (None, 100, 50)           0         \n",
      "                                                                 \n",
      " lstm_1 (LSTM)               (None, 100, 60)           26640     \n",
      "                                                                 \n",
      " dropout_1 (Dropout)         (None, 100, 60)           0         \n",
      "                                                                 \n",
      " lstm_2 (LSTM)               (None, 100, 80)           45120     \n",
      "                                                                 \n",
      " dropout_2 (Dropout)         (None, 100, 80)           0         \n",
      "                                                                 \n",
      " lstm_3 (LSTM)               (None, 120)               96480     \n",
      "                                                                 \n",
      " dropout_3 (Dropout)         (None, 120)               0         \n",
      "                                                                 \n",
      " dense (Dense)               (None, 1)                 121       \n",
      "                                                                 \n",
      "=================================================================\n",
      "Total params: 178,761\n",
      "Trainable params: 178,761\n",
      "Non-trainable params: 0\n",
      "_________________________________________________________________\n"
     ]
    }
   ],
   "source": [
    "regressor.summary()"
   ]
  },
  {
   "cell_type": "code",
   "execution_count": 23,
   "metadata": {},
   "outputs": [
    {
     "name": "stdout",
     "output_type": "stream",
     "text": [
      "Epoch 1/100\n",
      "71/71 [==============================] - 19s 208ms/step - loss: 0.0367\n",
      "Epoch 2/100\n",
      "71/71 [==============================] - 15s 206ms/step - loss: 0.0075\n",
      "Epoch 3/100\n",
      "71/71 [==============================] - 14s 200ms/step - loss: 0.0078\n",
      "Epoch 4/100\n",
      "71/71 [==============================] - 15s 209ms/step - loss: 0.0062\n",
      "Epoch 5/100\n",
      "71/71 [==============================] - 15s 212ms/step - loss: 0.0059\n",
      "Epoch 6/100\n",
      "71/71 [==============================] - 14s 201ms/step - loss: 0.0057\n",
      "Epoch 7/100\n",
      "71/71 [==============================] - 14s 197ms/step - loss: 0.0062\n",
      "Epoch 8/100\n",
      "71/71 [==============================] - 14s 203ms/step - loss: 0.0050\n",
      "Epoch 9/100\n",
      "71/71 [==============================] - 14s 200ms/step - loss: 0.0048\n",
      "Epoch 10/100\n",
      "71/71 [==============================] - 14s 201ms/step - loss: 0.0047\n",
      "Epoch 11/100\n",
      "71/71 [==============================] - 14s 198ms/step - loss: 0.0045\n",
      "Epoch 12/100\n",
      "71/71 [==============================] - 14s 201ms/step - loss: 0.0047\n",
      "Epoch 13/100\n",
      "71/71 [==============================] - 15s 207ms/step - loss: 0.0040\n",
      "Epoch 14/100\n",
      "71/71 [==============================] - 14s 197ms/step - loss: 0.0041\n",
      "Epoch 15/100\n",
      "71/71 [==============================] - 15s 209ms/step - loss: 0.0038\n",
      "Epoch 16/100\n",
      "71/71 [==============================] - 14s 192ms/step - loss: 0.0037\n",
      "Epoch 17/100\n",
      "71/71 [==============================] - 14s 203ms/step - loss: 0.0037\n",
      "Epoch 18/100\n",
      "71/71 [==============================] - 14s 202ms/step - loss: 0.0034\n",
      "Epoch 19/100\n",
      "71/71 [==============================] - 14s 198ms/step - loss: 0.0036\n",
      "Epoch 20/100\n",
      "71/71 [==============================] - 14s 199ms/step - loss: 0.0041\n",
      "Epoch 21/100\n",
      "71/71 [==============================] - 14s 192ms/step - loss: 0.0033\n",
      "Epoch 22/100\n",
      "71/71 [==============================] - 14s 201ms/step - loss: 0.0034\n",
      "Epoch 23/100\n",
      "71/71 [==============================] - 14s 190ms/step - loss: 0.0035\n",
      "Epoch 24/100\n",
      "71/71 [==============================] - 14s 201ms/step - loss: 0.0031\n",
      "Epoch 25/100\n",
      "71/71 [==============================] - 14s 200ms/step - loss: 0.0032\n",
      "Epoch 26/100\n",
      "71/71 [==============================] - 14s 201ms/step - loss: 0.0030\n",
      "Epoch 27/100\n",
      "71/71 [==============================] - 14s 197ms/step - loss: 0.0027\n",
      "Epoch 28/100\n",
      "71/71 [==============================] - 14s 198ms/step - loss: 0.0029\n",
      "Epoch 29/100\n",
      "71/71 [==============================] - 17s 233ms/step - loss: 0.0031\n",
      "Epoch 30/100\n",
      "71/71 [==============================] - 16s 222ms/step - loss: 0.0027\n",
      "Epoch 31/100\n",
      "71/71 [==============================] - 14s 203ms/step - loss: 0.0029\n",
      "Epoch 32/100\n",
      "71/71 [==============================] - 14s 198ms/step - loss: 0.0027\n",
      "Epoch 33/100\n",
      "71/71 [==============================] - 14s 197ms/step - loss: 0.0027\n",
      "Epoch 34/100\n",
      "71/71 [==============================] - 14s 199ms/step - loss: 0.0026\n",
      "Epoch 35/100\n",
      "71/71 [==============================] - 15s 214ms/step - loss: 0.0025\n",
      "Epoch 36/100\n",
      "71/71 [==============================] - 14s 198ms/step - loss: 0.0025\n",
      "Epoch 37/100\n",
      "71/71 [==============================] - 13s 185ms/step - loss: 0.0026\n",
      "Epoch 38/100\n",
      "71/71 [==============================] - 13s 180ms/step - loss: 0.0026\n",
      "Epoch 39/100\n",
      "71/71 [==============================] - 13s 185ms/step - loss: 0.0025\n",
      "Epoch 40/100\n",
      "71/71 [==============================] - 13s 189ms/step - loss: 0.0022\n",
      "Epoch 41/100\n",
      "71/71 [==============================] - 13s 185ms/step - loss: 0.0027\n",
      "Epoch 42/100\n",
      "71/71 [==============================] - 13s 184ms/step - loss: 0.0025\n",
      "Epoch 43/100\n",
      "71/71 [==============================] - 14s 190ms/step - loss: 0.0025\n",
      "Epoch 44/100\n",
      "71/71 [==============================] - 13s 184ms/step - loss: 0.0023\n",
      "Epoch 45/100\n",
      "71/71 [==============================] - 13s 189ms/step - loss: 0.0022\n",
      "Epoch 46/100\n",
      "71/71 [==============================] - 13s 186ms/step - loss: 0.0024\n",
      "Epoch 47/100\n",
      "71/71 [==============================] - 12s 171ms/step - loss: 0.0024\n",
      "Epoch 48/100\n",
      "71/71 [==============================] - 12s 168ms/step - loss: 0.0024\n",
      "Epoch 49/100\n",
      "71/71 [==============================] - 12s 168ms/step - loss: 0.0024\n",
      "Epoch 50/100\n",
      "71/71 [==============================] - 12s 169ms/step - loss: 0.0024\n",
      "Epoch 51/100\n",
      "71/71 [==============================] - 12s 168ms/step - loss: 0.0025\n",
      "Epoch 52/100\n",
      "71/71 [==============================] - 12s 168ms/step - loss: 0.0025\n",
      "Epoch 53/100\n",
      "71/71 [==============================] - 12s 169ms/step - loss: 0.0026\n",
      "Epoch 54/100\n",
      "71/71 [==============================] - 12s 171ms/step - loss: 0.0026\n",
      "Epoch 55/100\n",
      "71/71 [==============================] - 12s 170ms/step - loss: 0.0024\n",
      "Epoch 56/100\n",
      "71/71 [==============================] - 12s 170ms/step - loss: 0.0024\n",
      "Epoch 57/100\n",
      "71/71 [==============================] - 12s 169ms/step - loss: 0.0023\n",
      "Epoch 58/100\n",
      "71/71 [==============================] - 12s 168ms/step - loss: 0.0023\n",
      "Epoch 59/100\n",
      "71/71 [==============================] - 12s 168ms/step - loss: 0.0026\n",
      "Epoch 60/100\n",
      "71/71 [==============================] - 12s 168ms/step - loss: 0.0023\n",
      "Epoch 61/100\n",
      "71/71 [==============================] - 12s 167ms/step - loss: 0.0026\n",
      "Epoch 62/100\n",
      "71/71 [==============================] - 12s 167ms/step - loss: 0.0024\n",
      "Epoch 63/100\n",
      "71/71 [==============================] - 12s 168ms/step - loss: 0.0023\n",
      "Epoch 64/100\n",
      "71/71 [==============================] - 12s 168ms/step - loss: 0.0022\n",
      "Epoch 65/100\n",
      "71/71 [==============================] - 12s 167ms/step - loss: 0.0024\n",
      "Epoch 66/100\n",
      "71/71 [==============================] - 12s 167ms/step - loss: 0.0022\n",
      "Epoch 67/100\n",
      "71/71 [==============================] - 12s 168ms/step - loss: 0.0024\n",
      "Epoch 68/100\n",
      "71/71 [==============================] - 12s 169ms/step - loss: 0.0023\n",
      "Epoch 69/100\n",
      "71/71 [==============================] - 12s 169ms/step - loss: 0.0021\n",
      "Epoch 70/100\n",
      "71/71 [==============================] - 12s 168ms/step - loss: 0.0023\n",
      "Epoch 71/100\n",
      "71/71 [==============================] - 12s 168ms/step - loss: 0.0022\n",
      "Epoch 72/100\n",
      "71/71 [==============================] - 12s 168ms/step - loss: 0.0022\n",
      "Epoch 73/100\n",
      "71/71 [==============================] - 12s 166ms/step - loss: 0.0021\n",
      "Epoch 74/100\n",
      "71/71 [==============================] - 12s 169ms/step - loss: 0.0024\n",
      "Epoch 75/100\n",
      "71/71 [==============================] - 12s 169ms/step - loss: 0.0023\n",
      "Epoch 76/100\n",
      "71/71 [==============================] - 12s 171ms/step - loss: 0.0024\n",
      "Epoch 77/100\n",
      "71/71 [==============================] - 12s 169ms/step - loss: 0.0025\n",
      "Epoch 78/100\n",
      "71/71 [==============================] - 12s 170ms/step - loss: 0.0021\n",
      "Epoch 79/100\n",
      "71/71 [==============================] - 12s 169ms/step - loss: 0.0022\n",
      "Epoch 80/100\n",
      "71/71 [==============================] - 12s 167ms/step - loss: 0.0021\n",
      "Epoch 81/100\n",
      "71/71 [==============================] - 12s 169ms/step - loss: 0.0022\n",
      "Epoch 82/100\n",
      "71/71 [==============================] - 12s 168ms/step - loss: 0.0023\n",
      "Epoch 83/100\n",
      "71/71 [==============================] - 12s 170ms/step - loss: 0.0021\n",
      "Epoch 84/100\n",
      "71/71 [==============================] - 13s 178ms/step - loss: 0.0024\n",
      "Epoch 85/100\n",
      "71/71 [==============================] - 12s 169ms/step - loss: 0.0024\n",
      "Epoch 86/100\n",
      "71/71 [==============================] - 12s 170ms/step - loss: 0.0023\n",
      "Epoch 87/100\n",
      "71/71 [==============================] - 12s 171ms/step - loss: 0.0022\n",
      "Epoch 88/100\n",
      "71/71 [==============================] - 12s 171ms/step - loss: 0.0024\n",
      "Epoch 89/100\n",
      "71/71 [==============================] - 12s 170ms/step - loss: 0.0022\n",
      "Epoch 90/100\n",
      "71/71 [==============================] - 12s 171ms/step - loss: 0.0021\n",
      "Epoch 91/100\n",
      "71/71 [==============================] - 12s 170ms/step - loss: 0.0024\n",
      "Epoch 92/100\n",
      "71/71 [==============================] - 12s 170ms/step - loss: 0.0023\n",
      "Epoch 93/100\n",
      "71/71 [==============================] - 12s 170ms/step - loss: 0.0023\n",
      "Epoch 94/100\n",
      "71/71 [==============================] - 12s 168ms/step - loss: 0.0023\n",
      "Epoch 95/100\n",
      "71/71 [==============================] - 12s 170ms/step - loss: 0.0022\n",
      "Epoch 96/100\n",
      "71/71 [==============================] - 12s 169ms/step - loss: 0.0022\n",
      "Epoch 97/100\n",
      "71/71 [==============================] - 12s 169ms/step - loss: 0.0021\n",
      "Epoch 98/100\n",
      "71/71 [==============================] - 12s 170ms/step - loss: 0.0021\n",
      "Epoch 99/100\n",
      "71/71 [==============================] - 12s 171ms/step - loss: 0.0023\n",
      "Epoch 100/100\n",
      "71/71 [==============================] - 12s 170ms/step - loss: 0.0022\n"
     ]
    },
    {
     "data": {
      "text/plain": [
       "<keras.callbacks.History at 0x26025a4b450>"
      ]
     },
     "execution_count": 23,
     "metadata": {},
     "output_type": "execute_result"
    }
   ],
   "source": [
    "regressor.compile(optimizer = 'adam', loss = 'mean_squared_error')\n",
    "regressor.fit(x_train, y_train, epochs = 100)"
   ]
  },
  {
   "cell_type": "code",
   "execution_count": 24,
   "metadata": {},
   "outputs": [],
   "source": [
    "regressor.save('stock_pred.h5')"
   ]
  },
  {
   "cell_type": "code",
   "execution_count": 25,
   "metadata": {},
   "outputs": [
    {
     "data": {
      "text/html": [
       "<div>\n",
       "<style scoped>\n",
       "    .dataframe tbody tr th:only-of-type {\n",
       "        vertical-align: middle;\n",
       "    }\n",
       "\n",
       "    .dataframe tbody tr th {\n",
       "        vertical-align: top;\n",
       "    }\n",
       "\n",
       "    .dataframe thead th {\n",
       "        text-align: right;\n",
       "    }\n",
       "</style>\n",
       "<table border=\"1\" class=\"dataframe\">\n",
       "  <thead>\n",
       "    <tr style=\"text-align: right;\">\n",
       "      <th></th>\n",
       "      <th>Open</th>\n",
       "    </tr>\n",
       "  </thead>\n",
       "  <tbody>\n",
       "    <tr>\n",
       "      <th>2343</th>\n",
       "      <td>63.450001</td>\n",
       "    </tr>\n",
       "    <tr>\n",
       "      <th>2344</th>\n",
       "      <td>63.700001</td>\n",
       "    </tr>\n",
       "    <tr>\n",
       "      <th>2345</th>\n",
       "      <td>59.250000</td>\n",
       "    </tr>\n",
       "    <tr>\n",
       "      <th>2346</th>\n",
       "      <td>59.402500</td>\n",
       "    </tr>\n",
       "    <tr>\n",
       "      <th>2347</th>\n",
       "      <td>58.388000</td>\n",
       "    </tr>\n",
       "  </tbody>\n",
       "</table>\n",
       "</div>"
      ],
      "text/plain": [
       "           Open\n",
       "2343  63.450001\n",
       "2344  63.700001\n",
       "2345  59.250000\n",
       "2346  59.402500\n",
       "2347  58.388000"
      ]
     },
     "execution_count": 25,
     "metadata": {},
     "output_type": "execute_result"
    }
   ],
   "source": [
    "data_test.head()"
   ]
  },
  {
   "cell_type": "code",
   "execution_count": 26,
   "metadata": {},
   "outputs": [
    {
     "data": {
      "text/html": [
       "<div>\n",
       "<style scoped>\n",
       "    .dataframe tbody tr th:only-of-type {\n",
       "        vertical-align: middle;\n",
       "    }\n",
       "\n",
       "    .dataframe tbody tr th {\n",
       "        vertical-align: top;\n",
       "    }\n",
       "\n",
       "    .dataframe thead th {\n",
       "        text-align: right;\n",
       "    }\n",
       "</style>\n",
       "<table border=\"1\" class=\"dataframe\">\n",
       "  <thead>\n",
       "    <tr style=\"text-align: right;\">\n",
       "      <th></th>\n",
       "      <th>Open</th>\n",
       "    </tr>\n",
       "  </thead>\n",
       "  <tbody>\n",
       "    <tr>\n",
       "      <th>2243</th>\n",
       "      <td>53.804001</td>\n",
       "    </tr>\n",
       "    <tr>\n",
       "      <th>2244</th>\n",
       "      <td>54.453499</td>\n",
       "    </tr>\n",
       "    <tr>\n",
       "      <th>2245</th>\n",
       "      <td>56.157001</td>\n",
       "    </tr>\n",
       "    <tr>\n",
       "      <th>2246</th>\n",
       "      <td>55.155998</td>\n",
       "    </tr>\n",
       "    <tr>\n",
       "      <th>2247</th>\n",
       "      <td>51.713001</td>\n",
       "    </tr>\n",
       "    <tr>\n",
       "      <th>...</th>\n",
       "      <td>...</td>\n",
       "    </tr>\n",
       "    <tr>\n",
       "      <th>2338</th>\n",
       "      <td>61.959000</td>\n",
       "    </tr>\n",
       "    <tr>\n",
       "      <th>2339</th>\n",
       "      <td>61.799500</td>\n",
       "    </tr>\n",
       "    <tr>\n",
       "      <th>2340</th>\n",
       "      <td>62.534500</td>\n",
       "    </tr>\n",
       "    <tr>\n",
       "      <th>2341</th>\n",
       "      <td>63.206001</td>\n",
       "    </tr>\n",
       "    <tr>\n",
       "      <th>2342</th>\n",
       "      <td>63.238499</td>\n",
       "    </tr>\n",
       "  </tbody>\n",
       "</table>\n",
       "<p>100 rows × 1 columns</p>\n",
       "</div>"
      ],
      "text/plain": [
       "           Open\n",
       "2243  53.804001\n",
       "2244  54.453499\n",
       "2245  56.157001\n",
       "2246  55.155998\n",
       "2247  51.713001\n",
       "...         ...\n",
       "2338  61.959000\n",
       "2339  61.799500\n",
       "2340  62.534500\n",
       "2341  63.206001\n",
       "2342  63.238499\n",
       "\n",
       "[100 rows x 1 columns]"
      ]
     },
     "execution_count": 26,
     "metadata": {},
     "output_type": "execute_result"
    }
   ],
   "source": [
    "data_train.tail(100)"
   ]
  },
  {
   "cell_type": "code",
   "execution_count": 27,
   "metadata": {},
   "outputs": [],
   "source": [
    "past_100_days=data_train.tail(100)"
   ]
  },
  {
   "cell_type": "code",
   "execution_count": 28,
   "metadata": {},
   "outputs": [],
   "source": [
    "final_df=pd.concat((past_100_days, data_test),ignore_index=True)"
   ]
  },
  {
   "cell_type": "code",
   "execution_count": 29,
   "metadata": {},
   "outputs": [
    {
     "data": {
      "text/html": [
       "<div>\n",
       "<style scoped>\n",
       "    .dataframe tbody tr th:only-of-type {\n",
       "        vertical-align: middle;\n",
       "    }\n",
       "\n",
       "    .dataframe tbody tr th {\n",
       "        vertical-align: top;\n",
       "    }\n",
       "\n",
       "    .dataframe thead th {\n",
       "        text-align: right;\n",
       "    }\n",
       "</style>\n",
       "<table border=\"1\" class=\"dataframe\">\n",
       "  <thead>\n",
       "    <tr style=\"text-align: right;\">\n",
       "      <th></th>\n",
       "      <th>Open</th>\n",
       "    </tr>\n",
       "  </thead>\n",
       "  <tbody>\n",
       "    <tr>\n",
       "      <th>0</th>\n",
       "      <td>53.804001</td>\n",
       "    </tr>\n",
       "    <tr>\n",
       "      <th>1</th>\n",
       "      <td>54.453499</td>\n",
       "    </tr>\n",
       "    <tr>\n",
       "      <th>2</th>\n",
       "      <td>56.157001</td>\n",
       "    </tr>\n",
       "    <tr>\n",
       "      <th>3</th>\n",
       "      <td>55.155998</td>\n",
       "    </tr>\n",
       "    <tr>\n",
       "      <th>4</th>\n",
       "      <td>51.713001</td>\n",
       "    </tr>\n",
       "  </tbody>\n",
       "</table>\n",
       "</div>"
      ],
      "text/plain": [
       "        Open\n",
       "0  53.804001\n",
       "1  54.453499\n",
       "2  56.157001\n",
       "3  55.155998\n",
       "4  51.713001"
      ]
     },
     "execution_count": 29,
     "metadata": {},
     "output_type": "execute_result"
    }
   ],
   "source": [
    "final_df.head()"
   ]
  },
  {
   "cell_type": "code",
   "execution_count": 30,
   "metadata": {},
   "outputs": [],
   "source": [
    "input_data=sc.fit_transform(final_df)"
   ]
  },
  {
   "cell_type": "code",
   "execution_count": 31,
   "metadata": {},
   "outputs": [
    {
     "data": {
      "text/plain": [
       "array([[0.04952094],\n",
       "       [0.05581645],\n",
       "       [0.0723283 ],\n",
       "       ...,\n",
       "       [0.53814875],\n",
       "       [0.5423652 ],\n",
       "       [0.5563229 ]])"
      ]
     },
     "execution_count": 31,
     "metadata": {},
     "output_type": "execute_result"
    }
   ],
   "source": [
    "input_data"
   ]
  },
  {
   "cell_type": "code",
   "execution_count": 32,
   "metadata": {},
   "outputs": [
    {
     "data": {
      "text/plain": [
       "(1105, 1)"
      ]
     },
     "execution_count": 32,
     "metadata": {},
     "output_type": "execute_result"
    }
   ],
   "source": [
    "input_data.shape"
   ]
  },
  {
   "cell_type": "code",
   "execution_count": 33,
   "metadata": {},
   "outputs": [],
   "source": [
    "x_test=[]\n",
    "y_test=[]\n",
    "for i in range(100, input_data.shape[0]):\n",
    "    x_test.append(input_data[i-100:i])\n",
    "    y_test.append(input_data[i,0])"
   ]
  },
  {
   "cell_type": "code",
   "execution_count": 34,
   "metadata": {},
   "outputs": [
    {
     "name": "stdout",
     "output_type": "stream",
     "text": [
      "(1005, 100, 1)\n",
      "(1005,)\n"
     ]
    }
   ],
   "source": [
    "x_test,y_test=np.array(x_test),np.array(y_test)\n",
    "print(x_test.shape)\n",
    "print(y_test.shape)"
   ]
  },
  {
   "cell_type": "code",
   "execution_count": 35,
   "metadata": {},
   "outputs": [
    {
     "name": "stdout",
     "output_type": "stream",
     "text": [
      "32/32 [==============================] - 2s 57ms/step\n"
     ]
    }
   ],
   "source": [
    "#Making predictions\n",
    "y_predicted=regressor.predict(x_test)"
   ]
  },
  {
   "cell_type": "code",
   "execution_count": 36,
   "metadata": {},
   "outputs": [
    {
     "data": {
      "text/plain": [
       "(1005, 1)"
      ]
     },
     "execution_count": 36,
     "metadata": {},
     "output_type": "execute_result"
    }
   ],
   "source": [
    "y_predicted.shape"
   ]
  },
  {
   "cell_type": "code",
   "execution_count": 37,
   "metadata": {},
   "outputs": [
    {
     "data": {
      "text/plain": [
       "array([0.14301848, 0.1454417 , 0.10230837, ..., 0.53814875, 0.5423652 ,\n",
       "       0.5563229 ])"
      ]
     },
     "execution_count": 37,
     "metadata": {},
     "output_type": "execute_result"
    }
   ],
   "source": [
    "y_test"
   ]
  },
  {
   "cell_type": "code",
   "execution_count": 38,
   "metadata": {},
   "outputs": [
    {
     "data": {
      "text/plain": [
       "array([[0.2054936 ],\n",
       "       [0.20817897],\n",
       "       [0.21116647],\n",
       "       ...,\n",
       "       [0.5262105 ],\n",
       "       [0.5281324 ],\n",
       "       [0.52870727]], dtype=float32)"
      ]
     },
     "execution_count": 38,
     "metadata": {},
     "output_type": "execute_result"
    }
   ],
   "source": [
    "y_predicted"
   ]
  },
  {
   "cell_type": "code",
   "execution_count": 39,
   "metadata": {},
   "outputs": [
    {
     "data": {
      "text/plain": [
       "array([0.00969288])"
      ]
     },
     "execution_count": 39,
     "metadata": {},
     "output_type": "execute_result"
    }
   ],
   "source": [
    "sc.scale_"
   ]
  },
  {
   "cell_type": "code",
   "execution_count": 40,
   "metadata": {},
   "outputs": [],
   "source": [
    "scalor_factor=1/0.00969288\n",
    "y_predicted=y_predicted*scalor_factor\n",
    "y_test=y_test*scalor_factor"
   ]
  },
  {
   "cell_type": "code",
   "execution_count": 41,
   "metadata": {},
   "outputs": [
    {
     "data": {
      "image/png": "[encoded data removed]",
      "text/plain": [
       "<Figure size 1200x600 with 1 Axes>"
      ]
     },
     "metadata": {},
     "output_type": "display_data"
    }
   ],
   "source": [
    "plt.figure(figsize=(12,6))\n",
    "plt.plot(y_test,'b',label='Original Price')\n",
    "plt.plot(y_predicted,'r',label='Predicted Price')\n",
    "plt.xlabel('Time')\n",
    "plt.ylabel('Price')\n",
    "plt.legend()\n",
    "plt.show()"
   ]
  },
  {
   "cell_type": "code",
   "execution_count": null,
   "metadata": {},
   "outputs": [],
   "source": []
  }
 ],
 "metadata": {
  "kernelspec": {
   "display_name": "Python 3",
   "language": "python",
   "name": "python3"
  },
  "language_info": {
   "codemirror_mode": {
    "name": "ipython",
    "version": 3
   },
   "file_extension": ".py",
   "mimetype": "text/x-python",
   "name": "python",
   "nbconvert_exporter": "python",
   "pygments_lexer": "ipython3",
   "version": "3.11.2"
  },
  "orig_nbformat": 4
 },
 "nbformat": 4,
 "nbformat_minor": 2
}
